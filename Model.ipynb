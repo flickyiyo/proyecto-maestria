{
 "cells": [
  {
   "cell_type": "code",
   "execution_count": 2,
   "id": "7990e9c8",
   "metadata": {},
   "outputs": [],
   "source": [
    "from tensorflow.keras.models import Sequential\n",
    "from tensorflow.keras.layers import Dense,Flatten,Reshape\n",
    "from tensorflow.keras.optimizers import SGD"
   ]
  },
  {
   "cell_type": "code",
   "execution_count": 6,
   "id": "40c9dbf4",
   "metadata": {},
   "outputs": [],
   "source": [
    "encoder = Sequential()\n",
    "encoder.add(Flatten(input_shape=[96,96]))\n",
    "encoder.add(Dense(4900, activation='relu'))\n",
    "encoder.add(Dense(2450, activation='relu'))\n",
    "encoder.add(Dense(1225, activation='relu'))\n",
    "encoder.add(Dense(612, activation='relu'))\n",
    "encoder.add(Dense(306, activation='relu'))\n",
    "encoder.add(Dense(150, activation='relu'))"
   ]
  },
  {
   "cell_type": "code",
   "execution_count": 4,
   "id": "25093d03",
   "metadata": {},
   "outputs": [
    {
     "data": {
      "text/plain": [
       "9216"
      ]
     },
     "execution_count": 4,
     "metadata": {},
     "output_type": "execute_result"
    }
   ],
   "source": [
    "96*96"
   ]
  },
  {
   "cell_type": "code",
   "execution_count": 9,
   "id": "717ba8af",
   "metadata": {},
   "outputs": [],
   "source": [
    "decoder = Sequential()\n",
    "decoder.add(Dense(306, input_shape=[150], activation='relu'))\n",
    "decoder.add(Dense(612, activation='relu'))\n",
    "decoder.add(Dense(1225, activation='relu'))\n",
    "decoder.add(Dense(2450, activation='relu'))\n",
    "decoder.add(Dense(4900, activation='relu'))\n",
    "decoder.add(Dense(9216, activation='relu'))"
   ]
  },
  {
   "cell_type": "code",
   "execution_count": null,
   "id": "8543c2c6",
   "metadata": {},
   "outputs": [],
   "source": []
  }
 ],
 "metadata": {
  "kernelspec": {
   "display_name": "Python 3 (ipykernel)",
   "language": "python",
   "name": "python3"
  },
  "language_info": {
   "codemirror_mode": {
    "name": "ipython",
    "version": 3
   },
   "file_extension": ".py",
   "mimetype": "text/x-python",
   "name": "python",
   "nbconvert_exporter": "python",
   "pygments_lexer": "ipython3",
   "version": "3.9.7"
  }
 },
 "nbformat": 4,
 "nbformat_minor": 5
}
